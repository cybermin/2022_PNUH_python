{
  "nbformat": 4,
  "nbformat_minor": 0,
  "metadata": {
    "colab": {
      "name": "python03.ipynb",
      "provenance": [],
      "collapsed_sections": [],
      "mount_file_id": "1_CqqWZnl5DIqAvzsJottunu3GTkouPER",
      "authorship_tag": "ABX9TyMboqPe+ZTepxH16h+zNEVY",
      "include_colab_link": true
    },
    "kernelspec": {
      "name": "python3",
      "display_name": "Python 3"
    },
    "language_info": {
      "name": "python"
    }
  },
  "cells": [
    {
      "cell_type": "markdown",
      "metadata": {
        "id": "view-in-github",
        "colab_type": "text"
      },
      "source": [
        "<a href=\"https://colab.research.google.com/github/cybermin/2022_PNUH_python/blob/main/python03.ipynb\" target=\"_parent\"><img src=\"https://colab.research.google.com/assets/colab-badge.svg\" alt=\"Open In Colab\"/></a>"
      ]
    },
    {
      "cell_type": "markdown",
      "metadata": {
        "id": "4DSFtXSyA9sE"
      },
      "source": [
        "# 파일(File)\n"
      ]
    },
    {
      "cell_type": "markdown",
      "metadata": {
        "id": "Wq-GZ5wxBF2B"
      },
      "source": [
        "\n",
        "### **파일 생성**\n",
        "+ 파일 객체 = open(파일 이름, 파일 열기 모드, encoding='UTF-8’)\n",
        " - 한글이 포함된 파일 입력시 UnicodeDecodeError 에러가 발생하면 encoding 값을 'cp949' 사용\n",
        "\n",
        "+ 파일 열기 모드\n",
        " - r\t읽기모드 - 파일을 읽기만 할 때 사용\n",
        " - w\t쓰기모드 - 파일에 내용을 쓸 때 사용\n",
        " - a\t추가모드 - 파일의 마지막에 새로운 내용을 추가 시킬 때 사용\n"
      ]
    },
    {
      "cell_type": "markdown",
      "metadata": {
        "id": "h4J2HNblJ-iK"
      },
      "source": [
        "### **파일입력 메소드**\n",
        "+ 파일객체.readline(): 파일의 첫 번째 줄을 읽어 출력하는 경우\n",
        "+ 파일객체.readlines(): 파일의 모든 라인을 읽어서 각각의 줄을 요소로 갖는 리스트로 리턴\n",
        "+ 파일객체.read(): 파일의 내용 전체를 문자열로 리턴\n"
      ]
    },
    {
      "cell_type": "markdown",
      "metadata": {
        "id": "CLEkZZ5CRLZQ"
      },
      "source": [
        "### **파일출력 메소드**\n",
        "+ 파일객체.write()"
      ]
    },
    {
      "cell_type": "markdown",
      "metadata": {
        "id": "xyEYOw8yRHis"
      },
      "source": [
        "### **파일 종료**\n",
        "+ 파일객체.close()"
      ]
    },
    {
      "cell_type": "markdown",
      "metadata": {
        "id": "ZSqQJl10S3xI"
      },
      "source": [
        "### 파일 읽기 예제"
      ]
    },
    {
      "cell_type": "code",
      "metadata": {
        "id": "T-VYpIzfBbng"
      },
      "source": [
        "fp = open('/content/drive/MyDrive/특강/2022_01_사대부고/전형별지원자현황.csv', 'r' ,  encoding='cp949')\n",
        "\n",
        "data = fp.readlines()\n",
        "\n",
        "fp.close()"
      ],
      "execution_count": null,
      "outputs": []
    },
    {
      "cell_type": "code",
      "source": [
        "with open('/content/drive/MyDrive/특강/2022_01_사대부고/전형별지원자현황.csv', 'r', encoding='cp949') as fp:\n",
        "  data = fp.readlines()"
      ],
      "metadata": {
        "id": "EBTSTOvANDh2"
      },
      "execution_count": 2,
      "outputs": []
    },
    {
      "cell_type": "code",
      "metadata": {
        "colab": {
          "base_uri": "https://localhost:8080/"
        },
        "id": "v-z7XnKPKOkl",
        "outputId": "ef2854c6-8ac2-40d1-d6bf-2d3204f95421"
      },
      "source": [
        "data\n",
        " "
      ],
      "execution_count": 3,
      "outputs": [
        {
          "output_type": "execute_result",
          "data": {
            "text/plain": [
              "['전형명,모집인원,지원인원\\n',\n",
              " '학생부교과 - 학생부교과전형,1075,10481\\n',\n",
              " '학생부교과 - 지역인재전형,214,3482\\n',\n",
              " '학생부종합 - 학생부종합전형,621,6392\\n',\n",
              " '학생부종합 - 지역인재전형,49,567\\n',\n",
              " '학생부종합 - 국가보훈대상자전형,29,123\\n',\n",
              " '학생부종합 - 사회적배려대상자전형,71,230\\n',\n",
              " '학생부종합 - 농어촌학생전형,119,507\\n',\n",
              " '학생부종합 - 특성화고교출신자전형,11,111\\n',\n",
              " '학생부종합 - 저소득층학생전형,88,548\\n',\n",
              " '학생부종합 - 특수교육대상자전형,22,78\\n',\n",
              " '학생부종합 - 특성화고졸재직자전형,20,12\\n',\n",
              " '논술 - 논술전형,533,9580\\n',\n",
              " '실기/실적 - 실기전형,193,1026\\n',\n",
              " '실기/실적 - 농어촌학생전형,7,28\\n',\n",
              " '실기/실적 - 특성화고교출신자전형,3,4\\n',\n",
              " '실기/실적 - 저소득층학생전형,6,30\\n',\n",
              " '실기/실적 - 체육특기자전형,8,27\\n',\n",
              " '실기/실적 - SW특기자전형,15,121\\n']"
            ]
          },
          "metadata": {},
          "execution_count": 3
        }
      ]
    },
    {
      "cell_type": "code",
      "source": [
        "lt1 = []\n",
        "lt2 = []\n",
        "lt3 = []\n",
        "\n",
        "for line in data[1:] :\n",
        "  line = line.replace('\\n','')\n",
        "  line = line.split(',')\n",
        "\n",
        "  lt1.append(line[0])\n",
        "  lt2.append(line[1])\n",
        "  lt3.append(line[2])\n",
        "\n",
        "#숫자형 문자열을 모두 수치형 리스트로 변경\n",
        "lt2 = [int(n) for n in lt2]\n",
        "lt3 = [int(n) for n in lt3]\n",
        "\n",
        "print(lt1)\n",
        "print(lt2)\n",
        "print(lt3)"
      ],
      "metadata": {
        "colab": {
          "base_uri": "https://localhost:8080/"
        },
        "id": "yODKz-BQOaUc",
        "outputId": "18567ecb-ca7a-4f91-bfcf-89ed2d78a2ca"
      },
      "execution_count": 10,
      "outputs": [
        {
          "output_type": "stream",
          "name": "stdout",
          "text": [
            "['학생부교과 - 학생부교과전형', '학생부교과 - 지역인재전형', '학생부종합 - 학생부종합전형', '학생부종합 - 지역인재전형', '학생부종합 - 국가보훈대상자전형', '학생부종합 - 사회적배려대상자전형', '학생부종합 - 농어촌학생전형', '학생부종합 - 특성화고교출신자전형', '학생부종합 - 저소득층학생전형', '학생부종합 - 특수교육대상자전형', '학생부종합 - 특성화고졸재직자전형', '논술 - 논술전형', '실기/실적 - 실기전형', '실기/실적 - 농어촌학생전형', '실기/실적 - 특성화고교출신자전형', '실기/실적 - 저소득층학생전형', '실기/실적 - 체육특기자전형', '실기/실적 - SW특기자전형']\n",
            "[1075, 214, 621, 49, 29, 71, 119, 11, 88, 22, 20, 533, 193, 7, 3, 6, 8, 15]\n",
            "[10481, 3482, 6392, 567, 123, 230, 507, 111, 548, 78, 12, 9580, 1026, 28, 4, 30, 27, 121]\n"
          ]
        }
      ]
    },
    {
      "cell_type": "code",
      "source": [
        "lt1 = []\n",
        "lt2 = []\n",
        "lt3 = []\n",
        "\n",
        "for line in data :\n",
        "  line = line.replace('\\n','')\n",
        "  line = line.split(',')\n",
        "\n",
        "  lt1.append(line[0])\n",
        "  lt2.append(line[1])\n",
        "  lt3.append(line[2])\n",
        "\n",
        "#전형  \n",
        "lt1 = lt1[1:]\n",
        "#모집인원 -> 숫자\n",
        "lt2 = lt2[1:]\n",
        "lt2 = [int(n) for n in lt2]\n",
        "\n",
        "#지원인원 -> 숫자\n",
        "lt3 = lt3[1:]\n",
        "lt3 = [int(n) for n in lt3]\n",
        "print(lt1)\n",
        "print(lt2)\n",
        "print(lt3)"
      ],
      "metadata": {
        "id": "G89za4mMSGRy"
      },
      "execution_count": null,
      "outputs": []
    },
    {
      "cell_type": "code",
      "source": [
        "#평균지원자수\n",
        "print(f'평균지원자수 : {sum(lt3) / len(lt3) : .2f} ')"
      ],
      "metadata": {
        "colab": {
          "base_uri": "https://localhost:8080/"
        },
        "id": "bBz3cHKUVp8H",
        "outputId": "2998eb72-b763-4a26-ac0a-bb4f0d4e41ee"
      },
      "execution_count": null,
      "outputs": [
        {
          "output_type": "stream",
          "name": "stdout",
          "text": [
            "평균지원자수 :  1852.61 \n"
          ]
        }
      ]
    },
    {
      "cell_type": "markdown",
      "metadata": {
        "id": "DDcHk9iITD0r"
      },
      "source": [
        "\n",
        "\n",
        "---\n",
        "## 해결문제 : 파일 쓰기\n",
        "\n",
        "\n",
        "---\n",
        "전형별지원자현황 파일을 읽어서 전형별경쟁률을 텍스트 파일을 작성하시오.\n",
        "\n"
      ]
    },
    {
      "cell_type": "code",
      "metadata": {
        "id": "0_gx24JmTb0-"
      },
      "source": [
        "\n",
        "fp = open('/content/drive/MyDrive/특강/2022_01_사대부고/전형별지원자현황.csv', 'r', encoding='cp949')\n",
        "\n",
        " "
      ],
      "execution_count": 24,
      "outputs": []
    },
    {
      "cell_type": "code",
      "source": [
        "data = fp.readlines()\n",
        "fp.close()"
      ],
      "metadata": {
        "id": "Oom9ZnkMQjRb"
      },
      "execution_count": 12,
      "outputs": []
    },
    {
      "cell_type": "code",
      "source": [
        "data"
      ],
      "metadata": {
        "colab": {
          "base_uri": "https://localhost:8080/"
        },
        "id": "ydtRxyC_QzUt",
        "outputId": "77f8c906-3e4e-458f-dced-e71a27ebcc57"
      },
      "execution_count": 13,
      "outputs": [
        {
          "output_type": "execute_result",
          "data": {
            "text/plain": [
              "['전형명,모집인원,지원인원\\n',\n",
              " '학생부교과 - 학생부교과전형,1075,10481\\n',\n",
              " '학생부교과 - 지역인재전형,214,3482\\n',\n",
              " '학생부종합 - 학생부종합전형,621,6392\\n',\n",
              " '학생부종합 - 지역인재전형,49,567\\n',\n",
              " '학생부종합 - 국가보훈대상자전형,29,123\\n',\n",
              " '학생부종합 - 사회적배려대상자전형,71,230\\n',\n",
              " '학생부종합 - 농어촌학생전형,119,507\\n',\n",
              " '학생부종합 - 특성화고교출신자전형,11,111\\n',\n",
              " '학생부종합 - 저소득층학생전형,88,548\\n',\n",
              " '학생부종합 - 특수교육대상자전형,22,78\\n',\n",
              " '학생부종합 - 특성화고졸재직자전형,20,12\\n',\n",
              " '논술 - 논술전형,533,9580\\n',\n",
              " '실기/실적 - 실기전형,193,1026\\n',\n",
              " '실기/실적 - 농어촌학생전형,7,28\\n',\n",
              " '실기/실적 - 특성화고교출신자전형,3,4\\n',\n",
              " '실기/실적 - 저소득층학생전형,6,30\\n',\n",
              " '실기/실적 - 체육특기자전형,8,27\\n',\n",
              " '실기/실적 - SW특기자전형,15,121\\n']"
            ]
          },
          "metadata": {},
          "execution_count": 13
        }
      ]
    },
    {
      "cell_type": "code",
      "source": [
        "lt1 = []\n",
        "lt2 = []\n",
        "lt3 = []\n",
        "\n",
        "for line in data[1:] :\n",
        "  line = line.replace('\\n','')\n",
        "  line = line.split(',')\n",
        "\n",
        "  lt1.append(line[0])\n",
        "  lt2.append(line[1])\n",
        "  lt3.append(line[2])\n",
        "\n",
        "#숫자형 문자열을 모두 수치형 리스트로 변경\n",
        "lt2 = [int(n) for n in lt2]\n",
        "lt3 = [int(n) for n in lt3]\n",
        "\n",
        "print(lt1)\n",
        "print(lt2)\n",
        "print(lt3)"
      ],
      "metadata": {
        "colab": {
          "base_uri": "https://localhost:8080/"
        },
        "id": "SXhQO_dMQ4pY",
        "outputId": "b92a2130-7141-4680-fa62-1ffc384b1f4f"
      },
      "execution_count": 14,
      "outputs": [
        {
          "output_type": "stream",
          "name": "stdout",
          "text": [
            "['학생부교과 - 학생부교과전형', '학생부교과 - 지역인재전형', '학생부종합 - 학생부종합전형', '학생부종합 - 지역인재전형', '학생부종합 - 국가보훈대상자전형', '학생부종합 - 사회적배려대상자전형', '학생부종합 - 농어촌학생전형', '학생부종합 - 특성화고교출신자전형', '학생부종합 - 저소득층학생전형', '학생부종합 - 특수교육대상자전형', '학생부종합 - 특성화고졸재직자전형', '논술 - 논술전형', '실기/실적 - 실기전형', '실기/실적 - 농어촌학생전형', '실기/실적 - 특성화고교출신자전형', '실기/실적 - 저소득층학생전형', '실기/실적 - 체육특기자전형', '실기/실적 - SW특기자전형']\n",
            "[1075, 214, 621, 49, 29, 71, 119, 11, 88, 22, 20, 533, 193, 7, 3, 6, 8, 15]\n",
            "[10481, 3482, 6392, 567, 123, 230, 507, 111, 548, 78, 12, 9580, 1026, 28, 4, 30, 27, 121]\n"
          ]
        }
      ]
    },
    {
      "cell_type": "code",
      "source": [
        "len(lt1)"
      ],
      "metadata": {
        "colab": {
          "base_uri": "https://localhost:8080/"
        },
        "id": "c0IDlG60VmCX",
        "outputId": "e5529cf4-a56a-4f53-8f1c-e5a526d6370a"
      },
      "execution_count": 16,
      "outputs": [
        {
          "output_type": "execute_result",
          "data": {
            "text/plain": [
              "18"
            ]
          },
          "metadata": {},
          "execution_count": 16
        }
      ]
    },
    {
      "cell_type": "code",
      "source": [
        "fpw = open('/content/drive/MyDrive/특강/2022_01_사대부고/전형별지원자율.csv', 'w')\n",
        "fpw.write('전형명,경쟁율\\n')\n",
        "\n",
        "for idx in range(len(lt1)) :\n",
        "  line = f'{lt1[idx]}, {lt3[idx]/lt2[idx]:.2f}\\n'\n",
        "  print(line)\n",
        "  fpw.write(line)\n",
        "\n",
        "fpw.close()"
      ],
      "metadata": {
        "id": "HjZO3SZkVNeX"
      },
      "execution_count": null,
      "outputs": []
    },
    {
      "cell_type": "code",
      "metadata": {
        "id": "kWwS7wFFU03v"
      },
      "source": [
        "fpw = open('/content/drive/MyDrive/특강/2022_01_사대부고/전형별지원자율.csv', 'r')\n",
        "lines = fpw.readlines()\n",
        "fpw.close()"
      ],
      "execution_count": 27,
      "outputs": []
    },
    {
      "cell_type": "code",
      "source": [
        "for line in lines :\n",
        "  line = line.replace('\\n','')\n",
        "  print(line)"
      ],
      "metadata": {
        "colab": {
          "base_uri": "https://localhost:8080/"
        },
        "id": "7W-DmfbRX3hw",
        "outputId": "c2e43150-170a-4366-93f6-85b4ea6ead96"
      },
      "execution_count": 30,
      "outputs": [
        {
          "output_type": "stream",
          "name": "stdout",
          "text": [
            "전형명,경쟁율\n",
            "학생부교과 - 학생부교과전형, 9.75\n",
            "학생부교과 - 지역인재전형, 16.27\n",
            "학생부종합 - 학생부종합전형, 10.29\n",
            "학생부종합 - 지역인재전형, 11.57\n",
            "학생부종합 - 국가보훈대상자전형, 4.24\n",
            "학생부종합 - 사회적배려대상자전형, 3.24\n",
            "학생부종합 - 농어촌학생전형, 4.26\n",
            "학생부종합 - 특성화고교출신자전형, 10.09\n",
            "학생부종합 - 저소득층학생전형, 6.23\n",
            "학생부종합 - 특수교육대상자전형, 3.55\n",
            "학생부종합 - 특성화고졸재직자전형, 0.60\n",
            "논술 - 논술전형, 17.97\n",
            "실기/실적 - 실기전형, 5.32\n",
            "실기/실적 - 농어촌학생전형, 4.00\n",
            "실기/실적 - 특성화고교출신자전형, 1.33\n",
            "실기/실적 - 저소득층학생전형, 5.00\n",
            "실기/실적 - 체육특기자전형, 3.38\n",
            "실기/실적 - SW특기자전형, 8.07\n"
          ]
        }
      ]
    },
    {
      "cell_type": "markdown",
      "metadata": {
        "id": "bcHaJyT5VRKY"
      },
      "source": [
        "## with…as \n",
        "+ **파일을 open한 후 with…as 구문이 끝나면 자동으로 close**\n",
        "```\n",
        "with open(파일 경로, 모드) as 파일 객체:\n",
        "```"
      ]
    },
    {
      "cell_type": "code",
      "metadata": {
        "id": "vDDyrmguVgjQ",
        "colab": {
          "base_uri": "https://localhost:8080/"
        },
        "outputId": "4fc09fd1-ab7e-46b5-a6b6-f11805d7ce87"
      },
      "source": [
        " "
      ],
      "execution_count": null,
      "outputs": [
        {
          "output_type": "stream",
          "text": [
            "전형명,경쟁율\n",
            "학생부교과 - 학생부교과전형,9.75\n",
            "학생부교과 - 지역인재전형,16.27\n",
            "학생부종합 - 학생부종합전형,10.29\n",
            "학생부종합 - 지역인재전형,11.57\n",
            "학생부종합 - 국가보훈대상자전형,4.24\n",
            "학생부종합 - 사회적배려대상자전형,3.24\n",
            "학생부종합 - 농어촌학생전형,4.26\n",
            "학생부종합 - 특성화고교출신자전형,10.09\n",
            "학생부종합 - 저소득층학생전형,6.23\n",
            "학생부종합 - 특수교육대상자전형,3.55\n",
            "학생부종합 - 특성화고졸재직자전형,0.60\n",
            "논술 - 논술전형,17.97\n",
            "실기/실적 - 실기전형,5.32\n",
            "실기/실적 - 농어촌학생전형,4.00\n",
            "실기/실적 - 특성화고교출신자전형,1.33\n",
            "실기/실적 - 저소득층학생전형,5.00\n",
            "실기/실적 - 체육특기자전형,3.38\n",
            "실기/실적 - SW특기자전형,8.07\n",
            "\n"
          ],
          "name": "stdout"
        }
      ]
    },
    {
      "cell_type": "markdown",
      "metadata": {
        "id": "iV6golllE9o1"
      },
      "source": [
        "# 함수(Function)\n",
        "+ 특정 기능을 하나로 묶어서 따로 관리하기 위해 사용\n",
        " - 반복되는 내용을 효율적으로 처리\n",
        " - 코드의 가독성을 높임\n",
        "\n",
        "+ 함수의 종류\n",
        " - 내장함수 : 파이썬에서 기본으로 제공하는 함수\n",
        " - 모듈함수 : import를 해서 가져다가 사용할 수 있는 함수\n",
        " - 사용자정의함수 : 사용자가 함수를 직접"
      ]
    },
    {
      "cell_type": "markdown",
      "metadata": {
        "id": "H4cWr8uDFHXR"
      },
      "source": [
        "## **내장함수**\n",
        "\n",
        "+ **abs(x)** :어떤 숫자를 입력으로 받았을 때, 그 숫자의 절대값을 돌려주는 함수: abs(-1) \n",
        "+ **divmod(a, b)** :a를 b로 나눈 몫과 나머지를 튜플형태로 리턴하는함수:divmod(10, 3) \n",
        "=> (3, 1)\n",
        "+ **float(x)** :데이터를 실수로 변환:\n",
        "+ **int(x)** :문자열 형태의 숫자나 소수점이 있는 숫자 등을 정수 형태로 변환:\n",
        "+ **len(s)** :입력값s의 길이(요소의 전체 개수)를 리턴하는함수:len(\"python\"), len([1,2,3])\n",
        "+ **max(iterable)** :인수로 반복 가능한 자료형을입력받아그 최대값을 리턴하는함수:max([1, 2, 3]) , max(\"python\")\n",
        "+ **min(iterable)** :인수로 반복 가능한 자료형을입력받아그 최소값을 리턴하는함수:min([1, 2, 3]), min(\"python\")\n",
        "+ **pow(x, y)** :x의 y 제곱한 결과값을 리턴하는함수:\n",
        "+ **round(n[,nd])** :숫자를 입력받아반올림 해 주는 함수:\n",
        "+ **sorted(iterable)**:입력값을정렬한 후 그 결과를 리스트로 리턴하는함수:\n",
        "+ **str(object)** :문자열 형태로 객체를 변환하여 리턴하는함수:\n",
        "+ **sum(iterable)** :입력으로 받은 리스트나 튜플의모든 요소의 합을 리턴하는함수:"
      ]
    },
    {
      "cell_type": "markdown",
      "metadata": {
        "id": "oauikYNQFLcn"
      },
      "source": [
        "## **사용자 정의 함수**\n",
        "* **사용자 정의 함수 구조**\n",
        "```python\n",
        "def 함수명(매개변수1, 매개변수2....) :\n",
        "    명령문\n",
        "    명령문 \n",
        "\n",
        "  return 반환값1 ....\n",
        "```\n",
        "  + 가변매개변수 \n",
        "    + 튜플 형식  : *args\n",
        "    + 딕션너리 형식 : **args \n",
        "\n",
        "\n",
        "* 함수 호출\n",
        "  + 반환값이 없을 경우 : 함수명(인수)\n",
        "  + 반환값이 있을 경우 : 변수명 = 함수명(인수)\n",
        "\n",
        "\n",
        "* **스크립트 파일이 메인 프로그램으로 사용될 때와 모듈로 사용될 때를 구분하기 위한 용도**\n",
        "```\n",
        "if __name__ == '__main__':\n",
        "     메인 수행문\n",
        "```\n",
        " "
      ]
    },
    {
      "cell_type": "code",
      "metadata": {
        "colab": {
          "base_uri": "https://localhost:8080/"
        },
        "id": "puippxTiE6bS",
        "outputId": "a32eb969-3de8-4c22-fd66-2720a9e007cf"
      },
      "source": [
        "# 계산\n",
        "def cal(num1, num2, op) :\n",
        "    ans = 0\n",
        "    if op == '+' : ans = num1 + num2 \n",
        "    elif op == '-' : ans = num1 - num2\n",
        "    elif op == 'x' : ans = num1 * num2\n",
        "    elif op == '/' : ans = num1 / num2\n",
        "    \n",
        "    show(num1, num2, op, ans)\n",
        "\n",
        "# 숫자 입력\n",
        "def numInput():\n",
        "    data = int(input('숫자를 입력하세요.'))\n",
        "    return data\n",
        "\n",
        "# 문자 입력\n",
        "def strInput(msg):\n",
        "    data = input(msg)\n",
        "    return data\n",
        "\n",
        "#화면 출력\n",
        "def show(num1, num2, op, ans) :\n",
        "    print(f'{num1} {op} {num2} = {ans}')\n",
        "\n",
        "#독립적으로 파일을 실행할 경우 \n",
        "if __name__ == '__main__':  \n",
        "    num1 = numInput();\n",
        "    num2 = numInput();\n",
        "    op = strInput('연산자를 입력하세요.')\n",
        "    cal(num1,num2,op)"
      ],
      "execution_count": null,
      "outputs": [
        {
          "output_type": "stream",
          "text": [
            "숫자를 입력하세요.10\n",
            "숫자를 입력하세요.20\n",
            "연산자를 입력하세요.-\n",
            "10 - 20 = -10\n"
          ],
          "name": "stdout"
        }
      ]
    },
    {
      "cell_type": "markdown",
      "metadata": {
        "id": "xhnqQ2JJH_23"
      },
      "source": [
        "\n",
        "\n",
        "---\n",
        "### 해결문제\n",
        "\n",
        "\n",
        "---\n",
        "\n",
        "양의 정수 x가 하샤드 수이려면 x의 자릿수의 합으로 x가 나누어져야 합니다. 예를 들어 18의 자릿수 합은 1+8=9이고, 18은 9로 나누어 떨어지므로 18은 하샤드 수입니다. \n",
        "\n",
        "자연수 x를 입력받아 x가 하샤드 수이면 'O', 아니면'X'를 출력하시오.\n",
        "\n",
        "단, x는 1 이상, 10000 이하인 정수입니다.\n",
        "\n",
        "입출력 예시\n",
        "\n",
        "입력  출력\n",
        "\n",
        "10\tO\n",
        "\n",
        "11\tX"
      ]
    },
    {
      "cell_type": "code",
      "metadata": {
        "colab": {
          "base_uri": "https://localhost:8080/"
        },
        "id": "LQtFzGJ4IRVn",
        "outputId": "3e9aa8f7-0984-4528-aa22-dd4c67852172"
      },
      "source": [
        "#1.정수 입력함수\n",
        "def dataIn() :\n",
        "    \n",
        "\n",
        "#2.각 자릿수 합 함수\n",
        "def dataHap(x) :\n",
        "    \n",
        "#3.결과 출력 함수\n",
        "def ans(x, hap) :\n",
        " \n",
        "if __name__ == '__main__' :\n",
        "  x = dataIn() \n",
        "  hap = dataHap(x)\n",
        "  ans(x, hap)"
      ],
      "execution_count": null,
      "outputs": [
        {
          "output_type": "stream",
          "text": [
            "11\n",
            "X\n"
          ],
          "name": "stdout"
        }
      ]
    },
    {
      "cell_type": "code",
      "metadata": {
        "colab": {
          "base_uri": "https://localhost:8080/"
        },
        "id": "_Nh_syfzJIXF",
        "outputId": "4e2719d1-b391-44ea-9d0a-e37fe880932e"
      },
      "source": [
        "s = '123'\n",
        "\n",
        "lt = list(s)\n",
        "lt = \n",
        "hap = sum(lt)\n",
        "hap"
      ],
      "execution_count": null,
      "outputs": [
        {
          "output_type": "execute_result",
          "data": {
            "text/plain": [
              "6"
            ]
          },
          "metadata": {
            "tags": []
          },
          "execution_count": 3
        }
      ]
    },
    {
      "cell_type": "markdown",
      "metadata": {
        "id": "PSY6DzZsYKu4"
      },
      "source": [
        "# 모듈(Module)\n",
        "+ 함수나 변수 또는 클래스 들을 모아 놓은 파일\n",
        "+ 다른 파이썬 프로그램에서 불러와 사용할 수 있게끔 만들어진 파이썬 파일\n"
      ]
    },
    {
      "cell_type": "markdown",
      "metadata": {
        "id": "eNSJfK1dYesV"
      },
      "source": [
        "\n",
        "## 대표적 모듈\n",
        "+ matplotlib.pyplot : 시각화 모듈\n",
        "+ numpy : 수치해석 모듈\n",
        "+ pandas : 데이터 분석 모듈\n",
        "+ requests : HTTP 요청/응답 모듈"
      ]
    },
    {
      "cell_type": "markdown",
      "metadata": {
        "id": "ssHqHBWqYSzg"
      },
      "source": [
        "\n",
        "## 모듈 불러오기\n",
        "+ import 모듈이름\n",
        " - 모듈 이름은  .py 확장자를 제거한 파일이름\n",
        "+ import 모듈이름 as 별명\n",
        " - 모듈 이름을 별명으로 사용\n",
        "+ from 모듈이름 import 모듈함수\n",
        " - 모듈 이름을 붙이지 않고 바로 해당 모듈의 함수\n"
      ]
    }
  ]
}